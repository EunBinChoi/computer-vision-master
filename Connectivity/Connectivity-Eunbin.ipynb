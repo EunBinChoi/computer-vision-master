{
  "nbformat": 4,
  "nbformat_minor": 0,
  "metadata": {
    "colab": {
      "name": "CV-hw1-connectivity-by-eunbin.ipynb",
      "provenance": [],
      "collapsed_sections": []
    },
    "kernelspec": {
      "name": "python3",
      "display_name": "Python 3"
    },
    "language_info": {
      "name": "python"
    }
  },
  "cells": [
    {
      "cell_type": "markdown",
      "metadata": {
        "id": "VbDUdpGA2b5t"
      },
      "source": [
        "컴퓨터 비전 1차 과제\n",
        "- 과제 기한: 10월 18일 자정\n",
        "\n",
        "- 과제명: 주어진 영상을 일고 4연결성/8연결성을 이용하여 영상을 라벨링하여 색칠하기\n",
        "\n",
        "- 제출방법: colab에서 프로그램을 작성한 후 \" .py\" 확장자로 다운로드하여 가상대학에 제출하시기 바람\n",
        "\n",
        "- 파일명: 학번.py\n",
        "\n",
        "- 과제 제출 기한을 반드시 지키고, 이후에 제출시 감정\n",
        "\n"
      ]
    },
    {
      "cell_type": "markdown",
      "metadata": {
        "id": "fXQJSTk928SW"
      },
      "source": [
        "Python 버전 확인"
      ]
    },
    {
      "cell_type": "code",
      "metadata": {
        "colab": {
          "base_uri": "https://localhost:8080/"
        },
        "id": "cEvYjzu826Bk",
        "outputId": "f3300eca-7d4e-4a9e-efef-84f4ee26b668"
      },
      "source": [
        "!python --version"
      ],
      "execution_count": null,
      "outputs": [
        {
          "output_type": "stream",
          "name": "stdout",
          "text": [
            "Python 3.7.12\n"
          ]
        }
      ]
    },
    {
      "cell_type": "code",
      "metadata": {
        "colab": {
          "base_uri": "https://localhost:8080/",
          "height": 34
        },
        "id": "qRTjP_FB3Ek8",
        "outputId": "cc7ffbd4-8bb4-4495-9fac-987420f1dca9"
      },
      "source": [
        "import numpy as np\n",
        "import cv2\n",
        "import matplotlib.pyplot as plt\n",
        "cv2.__version__"
      ],
      "execution_count": null,
      "outputs": [
        {
          "output_type": "execute_result",
          "data": {
            "application/vnd.google.colaboratory.intrinsic+json": {
              "type": "string"
            },
            "text/plain": [
              "'4.1.2'"
            ]
          },
          "metadata": {},
          "execution_count": 2
        }
      ]
    },
    {
      "cell_type": "markdown",
      "metadata": {
        "id": "aLOemSdg4OZI"
      },
      "source": [
        "이미지 다운로드"
      ]
    },
    {
      "cell_type": "code",
      "metadata": {
        "colab": {
          "base_uri": "https://localhost:8080/"
        },
        "id": "uz8ywQqn4Ppd",
        "outputId": "dc09bf18-d989-4672-c28a-82e10af9eb8f"
      },
      "source": [
        "!wget https://i.imgur.com/iWGMlJR.png\n",
        "!mv iWGMlJR.png sample.png"
      ],
      "execution_count": null,
      "outputs": [
        {
          "output_type": "stream",
          "name": "stdout",
          "text": [
            "--2021-10-31 11:32:59--  https://i.imgur.com/iWGMlJR.png\n",
            "Resolving i.imgur.com (i.imgur.com)... 151.101.248.193\n",
            "Connecting to i.imgur.com (i.imgur.com)|151.101.248.193|:443... connected.\n",
            "HTTP request sent, awaiting response... 200 OK\n",
            "Length: 491 [image/png]\n",
            "Saving to: ‘iWGMlJR.png’\n",
            "\n",
            "\riWGMlJR.png           0%[                    ]       0  --.-KB/s               \riWGMlJR.png         100%[===================>]     491  --.-KB/s    in 0s      \n",
            "\n",
            "2021-10-31 11:32:59 (34.2 MB/s) - ‘iWGMlJR.png’ saved [491/491]\n",
            "\n"
          ]
        }
      ]
    },
    {
      "cell_type": "code",
      "metadata": {
        "colab": {
          "base_uri": "https://localhost:8080/",
          "height": 261
        },
        "id": "SWbAraUu4Tvj",
        "outputId": "af1cc6cf-c001-41af-c98c-5ea29a977ea7"
      },
      "source": [
        "img = cv2.imread('sample.png')\n",
        "\n",
        "# image 출력\n",
        "plt.imshow(img)\n",
        "plt.show()"
      ],
      "execution_count": null,
      "outputs": [
        {
          "output_type": "display_data",
          "data": {
            "image/png": "[encoded data removed]",
            "text/plain": [
              "<Figure size 432x288 with 1 Axes>"
            ]
          },
          "metadata": {
            "needs_background": "light"
          }
        }
      ]
    },
    {
      "cell_type": "code",
      "metadata": {
        "colab": {
          "base_uri": "https://localhost:8080/",
          "height": 279
        },
        "id": "WMGqsU0NhiLS",
        "outputId": "fe76a25b-c3b5-4323-fb53-b35985e5ef04"
      },
      "source": [
        "img.shape\n",
        "img_grayscale = cv2.cvtColor(img, cv2.COLOR_RGB2GRAY) # convert color (rgb to gray scale)\n",
        "img_grayscale.shape\n",
        "#print(type(img_grayscale))\n",
        "#print(img_grayscale.max())\n",
        "#print(img_grayscale.min())\n",
        "plt.imshow(img_grayscale, cmap='gray')"
      ],
      "execution_count": null,
      "outputs": [
        {
          "output_type": "execute_result",
          "data": {
            "text/plain": [
              "<matplotlib.image.AxesImage at 0x7f0a38b7a590>"
            ]
          },
          "metadata": {},
          "execution_count": 5
        },
        {
          "output_type": "display_data",
          "data": {
            "image/png": "[encoded data removed]",
            "text/plain": [
              "<Figure size 432x288 with 1 Axes>"
            ]
          },
          "metadata": {
            "needs_background": "light"
          }
        }
      ]
    },
    {
      "cell_type": "code",
      "metadata": {
        "colab": {
          "base_uri": "https://localhost:8080/",
          "height": 279
        },
        "id": "BPodqshPhld9",
        "outputId": "7bfb2c85-8c9f-4661-def9-e8204c308952"
      },
      "source": [
        "from google.colab.patches import cv2_imshow\n",
        "#cv2_imshow(img_grayscale)\n",
        "\n",
        "\n",
        "# 영상 바깥으로 나가는 것 방지\n",
        "# img_grayscale[0, :] = 0 # 첫번째 행\n",
        "# img_grayscale[img_grayscale.shape[0]-1, :] = 0 # 마지막 행\n",
        "\n",
        "# img_grayscale[:, 0] = 0 # 첫번쨰 열\n",
        "# img_grayscale[:, img_grayscale.shape[1]-1] = 0 # 마지막 열\n",
        "\n",
        "\n",
        "# gray scale image convert to binary image \n",
        "# (threshold 1 (which means background color 0, the others color not 0))\n",
        "# any threshold value is okay for this image\n",
        "\n",
        "p, q = img_grayscale.shape\n",
        "\n",
        "# padding\n",
        "img_binary = np.zeros((p+2, q+2), dtype=np.uint8) \n",
        "img_binary[1:p+1, 1:q+1] = img_grayscale.copy()\n",
        "\n",
        "# img_binary = img_grayscale.copy()\n",
        "# print(img_binary.max())\n",
        "# print(img_binary.min())\n",
        "\n",
        "\n",
        "threshold = 1\n",
        "img_binary[img_binary < threshold] = 0\n",
        "img_binary[img_binary >= threshold] = 1\n",
        "plt.imshow(img_binary, cmap='gray')"
      ],
      "execution_count": null,
      "outputs": [
        {
          "output_type": "execute_result",
          "data": {
            "text/plain": [
              "<matplotlib.image.AxesImage at 0x7f0a38af56d0>"
            ]
          },
          "metadata": {},
          "execution_count": 6
        },
        {
          "output_type": "display_data",
          "data": {
            "image/png": "[encoded data removed]",
            "text/plain": [
              "<Figure size 432x288 with 1 Axes>"
            ]
          },
          "metadata": {
            "needs_background": "light"
          }
        }
      ]
    },
    {
      "cell_type": "markdown",
      "metadata": {
        "id": "lfzdRBGd3Sph"
      },
      "source": [
        "# 4연결성과 8연결성 라벨링 출력 예시\n",
        "## 숫자로 표시\n",
        "![alt text](https://i.imgur.com/lQ9nXox.png)\n",
        "## 색상으로 표시\n",
        "![alt text](https://i.imgur.com/91M3MwP.png)"
      ]
    },
    {
      "cell_type": "markdown",
      "metadata": {
        "id": "1UOtF5SA3Y5R"
      },
      "source": [
        "# 과제1: 4연결성 라벨링\n",
        "\n",
        "- 위의 4연결성(4-neighbors) 라벨링과 같이 숫자 또는 색을 이용하여 라벨링하시오.\n",
        "- cf. 색의 종류에는 제한이 없고, 연결된 픽셀은 같은 숫자 또는 같은 색을 가져야함."
      ]
    },
    {
      "cell_type": "code",
      "metadata": {
        "id": "CwDs_JF6tg3Y"
      },
      "source": [
        "# References: https://jstar0525.tistory.com/2\n",
        "\n",
        "def find_labels(labels, r, c, neighbors): # check labels of neighbors\n",
        "  tmp_labels = labels[r-1:r+2, c-1:c+2] * neighbors\n",
        "  #print(\"tmp_labels\", tmp_labels[np.nonzero(tmp_labels)])\n",
        "  return np.sort(tmp_labels[np.nonzero(tmp_labels)])"
      ],
      "execution_count": null,
      "outputs": []
    },
    {
      "cell_type": "code",
      "metadata": {
        "id": "8yPPSTLQ-qfn"
      },
      "source": [
        "def connect(img_binary, connectivity):\n",
        "  # 함수 작성\n",
        "    equivalent = []\n",
        "    labels = np.zeros_like(img_binary, dtype='int64') # img_binary 만큼의 픽셀 값을 0으로 셋팅하고, 그 레이블에 들어가는 데이터 타입\n",
        "    # print(labels)\n",
        "    next_label = 1\n",
        "\n",
        "    # 1st pass\n",
        "    for r in range(1, len(img_binary)-1): # padding하기 전의 사이즈\n",
        "      for c, pixel in enumerate(img_binary[r]):\n",
        "        #print(c, pixel)\n",
        "        if pixel != 0: \n",
        "          neighbors = img_binary[r-1:r+2, c-1:c+2] * connectivity # element-wise multiplication\n",
        "          #print(img_binary[r-1:r+2, c-1:c+2])\n",
        "          # print(\"neighbors \", neighbors)\n",
        "          num_neighbors = np.count_nonzero(neighbors)\n",
        "\n",
        "          if num_neighbors == 0: # 새로운 레이블의 시작을 의미\n",
        "            labels[r, c] = next_label # r, c 위치 픽셀의 label값을 next_label로 설정\n",
        "            equivalent.append([next_label, next_label])\n",
        "            next_label += 1 # 새롭게 시작되는 label값을 변경하기 위해 \n",
        "\n",
        "          else: \n",
        "            L = find_labels(labels, r, c, neighbors)\n",
        "            #print(L)\n",
        "            labels[r, c] = np.min(L) #label값 중에서 min값으로 label값을 변경\n",
        "\n",
        "            uni_L = np.unique(L)\n",
        "            # print(uni_L)\n",
        "            if len(uni_L) > 1: # 설정가능한 label 종류가 2가지 이상이라면\n",
        "              for i, e in enumerate(equivalent):\n",
        "                if uni_L[0] in e:\n",
        "                  equivalent[i].extend(uni_L[1:])\n",
        "                  equivalent[i] = list(sorted(set(equivalent[i])))\n",
        "            #print(equivalent)\n",
        "\n",
        "      # 2nd pass\n",
        "      for e in equivalent:\n",
        "        for f in reversed(e):\n",
        "          labels[labels==f] = e[0] # e[0] is inserted at the location where the value is equivalent to f value\n",
        "          # print(e, labels[labels==f])\n",
        "    return  labels"
      ],
      "execution_count": null,
      "outputs": []
    },
    {
      "cell_type": "code",
      "metadata": {
        "id": "8f7B9imX3xfd"
      },
      "source": [
        "def four_connect(img_binary):\n",
        "  connectivity_4 = np.array([[0,1,0], [1,0,0], [0,0,0]])\n",
        "  return connect(img_binary, connectivity_4)"
      ],
      "execution_count": null,
      "outputs": []
    },
    {
      "cell_type": "code",
      "metadata": {
        "id": "YwNzK5Lk3mA9",
        "colab": {
          "base_uri": "https://localhost:8080/"
        },
        "outputId": "b366ec29-0250-4a91-b967-8ffbe423e6a2"
      },
      "source": [
        "labeled_img = four_connect(img_binary)\n",
        "np.unique(labeled_img)\n",
        "# labeled_img\n",
        "# plt.imshow(labeled_img, cmap='gist_earth')"
      ],
      "execution_count": null,
      "outputs": [
        {
          "output_type": "stream",
          "name": "stdout",
          "text": [
            "[[0 0 0 ... 0 0 0]\n",
            " [0 0 0 ... 0 0 0]\n",
            " [0 0 0 ... 0 0 0]\n",
            " ...\n",
            " [0 0 0 ... 0 0 0]\n",
            " [0 0 0 ... 0 0 0]\n",
            " [0 0 0 ... 0 0 0]]\n",
            "neighbors  [[0 0 0]\n",
            " [0 0 0]\n",
            " [0 0 0]]\n",
            "neighbors  [[0 0 0]\n",
            " [1 0 0]\n",
            " [0 0 0]]\n",
            "neighbors  [[0 0 0]\n",
            " [0 0 0]\n",
            " [0 0 0]]\n",
            "neighbors  [[0 0 0]\n",
            " [0 0 0]\n",
            " [0 0 0]]\n",
            "neighbors  [[0 0 0]\n",
            " [1 0 0]\n",
            " [0 0 0]]\n",
            "neighbors  [[0 0 0]\n",
            " [0 0 0]\n",
            " [0 0 0]]\n",
            "neighbors  [[0 0 0]\n",
            " [0 0 0]\n",
            " [0 0 0]]\n",
            "neighbors  [[0 1 0]\n",
            " [0 0 0]\n",
            " [0 0 0]]\n",
            "neighbors  [[0 0 0]\n",
            " [0 0 0]\n",
            " [0 0 0]]\n",
            "neighbors  [[0 0 0]\n",
            " [0 0 0]\n",
            " [0 0 0]]\n",
            "neighbors  [[0 0 0]\n",
            " [0 0 0]\n",
            " [0 0 0]]\n",
            "neighbors  [[0 1 0]\n",
            " [0 0 0]\n",
            " [0 0 0]]\n",
            "neighbors  [[0 1 0]\n",
            " [0 0 0]\n",
            " [0 0 0]]\n",
            "neighbors  [[0 1 0]\n",
            " [0 0 0]\n",
            " [0 0 0]]\n",
            "neighbors  [[0 1 0]\n",
            " [0 0 0]\n",
            " [0 0 0]]\n",
            "neighbors  [[0 1 0]\n",
            " [0 0 0]\n",
            " [0 0 0]]\n",
            "neighbors  [[0 1 0]\n",
            " [0 0 0]\n",
            " [0 0 0]]\n",
            "neighbors  [[0 1 0]\n",
            " [0 0 0]\n",
            " [0 0 0]]\n",
            "neighbors  [[0 1 0]\n",
            " [0 0 0]\n",
            " [0 0 0]]\n",
            "neighbors  [[0 1 0]\n",
            " [0 0 0]\n",
            " [0 0 0]]\n",
            "neighbors  [[0 0 0]\n",
            " [0 0 0]\n",
            " [0 0 0]]\n",
            "neighbors  [[0 1 0]\n",
            " [0 0 0]\n",
            " [0 0 0]]\n",
            "neighbors  [[0 0 0]\n",
            " [0 0 0]\n",
            " [0 0 0]]\n",
            "neighbors  [[0 1 0]\n",
            " [0 0 0]\n",
            " [0 0 0]]\n",
            "neighbors  [[0 1 0]\n",
            " [0 0 0]\n",
            " [0 0 0]]\n",
            "neighbors  [[0 1 0]\n",
            " [0 0 0]\n",
            " [0 0 0]]\n",
            "neighbors  [[0 0 0]\n",
            " [0 0 0]\n",
            " [0 0 0]]\n",
            "neighbors  [[0 1 0]\n",
            " [0 0 0]\n",
            " [0 0 0]]\n",
            "neighbors  [[0 1 0]\n",
            " [0 0 0]\n",
            " [0 0 0]]\n",
            "neighbors  [[0 1 0]\n",
            " [0 0 0]\n",
            " [0 0 0]]\n",
            "neighbors  [[0 1 0]\n",
            " [0 0 0]\n",
            " [0 0 0]]\n",
            "neighbors  [[0 1 0]\n",
            " [0 0 0]\n",
            " [0 0 0]]\n",
            "neighbors  [[0 0 0]\n",
            " [0 0 0]\n",
            " [0 0 0]]\n",
            "neighbors  [[0 0 0]\n",
            " [0 0 0]\n",
            " [0 0 0]]\n",
            "neighbors  [[0 0 0]\n",
            " [0 0 0]\n",
            " [0 0 0]]\n",
            "neighbors  [[0 0 0]\n",
            " [0 0 0]\n",
            " [0 0 0]]\n",
            "neighbors  [[0 1 0]\n",
            " [0 0 0]\n",
            " [0 0 0]]\n",
            "neighbors  [[0 1 0]\n",
            " [0 0 0]\n",
            " [0 0 0]]\n",
            "neighbors  [[0 1 0]\n",
            " [0 0 0]\n",
            " [0 0 0]]\n",
            "neighbors  [[0 0 0]\n",
            " [0 0 0]\n",
            " [0 0 0]]\n",
            "neighbors  [[0 1 0]\n",
            " [0 0 0]\n",
            " [0 0 0]]\n",
            "neighbors  [[0 0 0]\n",
            " [1 0 0]\n",
            " [0 0 0]]\n",
            "neighbors  [[0 0 0]\n",
            " [0 0 0]\n",
            " [0 0 0]]\n",
            "neighbors  [[0 1 0]\n",
            " [0 0 0]\n",
            " [0 0 0]]\n",
            "neighbors  [[0 1 0]\n",
            " [0 0 0]\n",
            " [0 0 0]]\n",
            "neighbors  [[0 1 0]\n",
            " [0 0 0]\n",
            " [0 0 0]]\n",
            "neighbors  [[0 1 0]\n",
            " [0 0 0]\n",
            " [0 0 0]]\n",
            "neighbors  [[0 0 0]\n",
            " [0 0 0]\n",
            " [0 0 0]]\n",
            "neighbors  [[0 0 0]\n",
            " [0 0 0]\n",
            " [0 0 0]]\n",
            "neighbors  [[0 0 0]\n",
            " [0 0 0]\n",
            " [0 0 0]]\n",
            "neighbors  [[0 1 0]\n",
            " [0 0 0]\n",
            " [0 0 0]]\n",
            "neighbors  [[0 0 0]\n",
            " [0 0 0]\n",
            " [0 0 0]]\n",
            "neighbors  [[0 1 0]\n",
            " [0 0 0]\n",
            " [0 0 0]]\n",
            "neighbors  [[0 1 0]\n",
            " [0 0 0]\n",
            " [0 0 0]]\n",
            "neighbors  [[0 1 0]\n",
            " [0 0 0]\n",
            " [0 0 0]]\n",
            "neighbors  [[0 0 0]\n",
            " [0 0 0]\n",
            " [0 0 0]]\n",
            "neighbors  [[0 1 0]\n",
            " [0 0 0]\n",
            " [0 0 0]]\n",
            "neighbors  [[0 1 0]\n",
            " [0 0 0]\n",
            " [0 0 0]]\n",
            "neighbors  [[0 0 0]\n",
            " [0 0 0]\n",
            " [0 0 0]]\n",
            "neighbors  [[0 1 0]\n",
            " [0 0 0]\n",
            " [0 0 0]]\n",
            "neighbors  [[0 1 0]\n",
            " [0 0 0]\n",
            " [0 0 0]]\n",
            "neighbors  [[0 1 0]\n",
            " [0 0 0]\n",
            " [0 0 0]]\n",
            "neighbors  [[0 1 0]\n",
            " [0 0 0]\n",
            " [0 0 0]]\n",
            "neighbors  [[0 0 0]\n",
            " [0 0 0]\n",
            " [0 0 0]]\n",
            "neighbors  [[0 0 0]\n",
            " [0 0 0]\n",
            " [0 0 0]]\n",
            "neighbors  [[0 0 0]\n",
            " [0 0 0]\n",
            " [0 0 0]]\n",
            "neighbors  [[0 1 0]\n",
            " [0 0 0]\n",
            " [0 0 0]]\n",
            "neighbors  [[0 1 0]\n",
            " [0 0 0]\n",
            " [0 0 0]]\n",
            "neighbors  [[0 1 0]\n",
            " [0 0 0]\n",
            " [0 0 0]]\n",
            "neighbors  [[0 1 0]\n",
            " [0 0 0]\n",
            " [0 0 0]]\n",
            "neighbors  [[0 1 0]\n",
            " [0 0 0]\n",
            " [0 0 0]]\n",
            "neighbors  [[0 0 0]\n",
            " [0 0 0]\n",
            " [0 0 0]]\n",
            "neighbors  [[0 1 0]\n",
            " [0 0 0]\n",
            " [0 0 0]]\n",
            "neighbors  [[0 0 0]\n",
            " [0 0 0]\n",
            " [0 0 0]]\n",
            "neighbors  [[0 0 0]\n",
            " [0 0 0]\n",
            " [0 0 0]]\n",
            "neighbors  [[0 1 0]\n",
            " [0 0 0]\n",
            " [0 0 0]]\n",
            "neighbors  [[0 1 0]\n",
            " [0 0 0]\n",
            " [0 0 0]]\n",
            "neighbors  [[0 1 0]\n",
            " [0 0 0]\n",
            " [0 0 0]]\n",
            "neighbors  [[0 1 0]\n",
            " [0 0 0]\n",
            " [0 0 0]]\n",
            "neighbors  [[0 0 0]\n",
            " [0 0 0]\n",
            " [0 0 0]]\n",
            "neighbors  [[0 1 0]\n",
            " [0 0 0]\n",
            " [0 0 0]]\n",
            "neighbors  [[0 1 0]\n",
            " [0 0 0]\n",
            " [0 0 0]]\n",
            "neighbors  [[0 1 0]\n",
            " [0 0 0]\n",
            " [0 0 0]]\n",
            "neighbors  [[0 1 0]\n",
            " [0 0 0]\n",
            " [0 0 0]]\n",
            "neighbors  [[0 1 0]\n",
            " [0 0 0]\n",
            " [0 0 0]]\n",
            "neighbors  [[0 1 0]\n",
            " [0 0 0]\n",
            " [0 0 0]]\n",
            "neighbors  [[0 0 0]\n",
            " [0 0 0]\n",
            " [0 0 0]]\n",
            "neighbors  [[0 0 0]\n",
            " [0 0 0]\n",
            " [0 0 0]]\n",
            "neighbors  [[0 1 0]\n",
            " [0 0 0]\n",
            " [0 0 0]]\n",
            "neighbors  [[0 0 0]\n",
            " [0 0 0]\n",
            " [0 0 0]]\n",
            "neighbors  [[0 0 0]\n",
            " [0 0 0]\n",
            " [0 0 0]]\n",
            "neighbors  [[0 1 0]\n",
            " [0 0 0]\n",
            " [0 0 0]]\n",
            "neighbors  [[0 1 0]\n",
            " [0 0 0]\n",
            " [0 0 0]]\n",
            "neighbors  [[0 1 0]\n",
            " [0 0 0]\n",
            " [0 0 0]]\n",
            "neighbors  [[0 1 0]\n",
            " [0 0 0]\n",
            " [0 0 0]]\n",
            "neighbors  [[0 0 0]\n",
            " [0 0 0]\n",
            " [0 0 0]]\n",
            "neighbors  [[0 1 0]\n",
            " [0 0 0]\n",
            " [0 0 0]]\n",
            "neighbors  [[0 1 0]\n",
            " [0 0 0]\n",
            " [0 0 0]]\n",
            "neighbors  [[0 1 0]\n",
            " [0 0 0]\n",
            " [0 0 0]]\n",
            "neighbors  [[0 1 0]\n",
            " [0 0 0]\n",
            " [0 0 0]]\n",
            "neighbors  [[0 1 0]\n",
            " [0 0 0]\n",
            " [0 0 0]]\n",
            "neighbors  [[0 1 0]\n",
            " [0 0 0]\n",
            " [0 0 0]]\n",
            "neighbors  [[0 0 0]\n",
            " [0 0 0]\n",
            " [0 0 0]]\n",
            "neighbors  [[0 1 0]\n",
            " [1 0 0]\n",
            " [0 0 0]]\n",
            "neighbors  [[0 1 0]\n",
            " [0 0 0]\n",
            " [0 0 0]]\n",
            "neighbors  [[0 0 0]\n",
            " [0 0 0]\n",
            " [0 0 0]]\n",
            "neighbors  [[0 0 0]\n",
            " [0 0 0]\n",
            " [0 0 0]]\n",
            "neighbors  [[0 1 0]\n",
            " [0 0 0]\n",
            " [0 0 0]]\n",
            "neighbors  [[0 1 0]\n",
            " [0 0 0]\n",
            " [0 0 0]]\n",
            "neighbors  [[0 1 0]\n",
            " [0 0 0]\n",
            " [0 0 0]]\n",
            "neighbors  [[0 0 0]\n",
            " [0 0 0]\n",
            " [0 0 0]]\n",
            "neighbors  [[0 0 0]\n",
            " [0 0 0]\n",
            " [0 0 0]]\n",
            "neighbors  [[0 1 0]\n",
            " [0 0 0]\n",
            " [0 0 0]]\n",
            "neighbors  [[0 1 0]\n",
            " [0 0 0]\n",
            " [0 0 0]]\n",
            "neighbors  [[0 1 0]\n",
            " [0 0 0]\n",
            " [0 0 0]]\n",
            "neighbors  [[0 1 0]\n",
            " [0 0 0]\n",
            " [0 0 0]]\n",
            "neighbors  [[0 1 0]\n",
            " [0 0 0]\n",
            " [0 0 0]]\n",
            "neighbors  [[0 1 0]\n",
            " [0 0 0]\n",
            " [0 0 0]]\n",
            "neighbors  [[0 1 0]\n",
            " [0 0 0]\n",
            " [0 0 0]]\n",
            "neighbors  [[0 1 0]\n",
            " [0 0 0]\n",
            " [0 0 0]]\n",
            "neighbors  [[0 1 0]\n",
            " [0 0 0]\n",
            " [0 0 0]]\n",
            "neighbors  [[0 0 0]\n",
            " [0 0 0]\n",
            " [0 0 0]]\n",
            "neighbors  [[0 0 0]\n",
            " [0 0 0]\n",
            " [0 0 0]]\n",
            "neighbors  [[0 1 0]\n",
            " [0 0 0]\n",
            " [0 0 0]]\n",
            "neighbors  [[0 1 0]\n",
            " [0 0 0]\n",
            " [0 0 0]]\n",
            "neighbors  [[0 1 0]\n",
            " [0 0 0]\n",
            " [0 0 0]]\n",
            "neighbors  [[0 0 0]\n",
            " [0 0 0]\n",
            " [0 0 0]]\n",
            "neighbors  [[0 0 0]\n",
            " [0 0 0]\n",
            " [0 0 0]]\n",
            "neighbors  [[0 1 0]\n",
            " [0 0 0]\n",
            " [0 0 0]]\n",
            "neighbors  [[0 1 0]\n",
            " [0 0 0]\n",
            " [0 0 0]]\n",
            "neighbors  [[0 1 0]\n",
            " [0 0 0]\n",
            " [0 0 0]]\n",
            "neighbors  [[0 1 0]\n",
            " [0 0 0]\n",
            " [0 0 0]]\n",
            "neighbors  [[0 1 0]\n",
            " [0 0 0]\n",
            " [0 0 0]]\n",
            "neighbors  [[0 1 0]\n",
            " [0 0 0]\n",
            " [0 0 0]]\n",
            "neighbors  [[0 1 0]\n",
            " [0 0 0]\n",
            " [0 0 0]]\n",
            "neighbors  [[0 0 0]\n",
            " [0 0 0]\n",
            " [0 0 0]]\n",
            "neighbors  [[0 1 0]\n",
            " [0 0 0]\n",
            " [0 0 0]]\n",
            "neighbors  [[0 0 0]\n",
            " [0 0 0]\n",
            " [0 0 0]]\n",
            "neighbors  [[0 1 0]\n",
            " [0 0 0]\n",
            " [0 0 0]]\n",
            "neighbors  [[0 1 0]\n",
            " [0 0 0]\n",
            " [0 0 0]]\n",
            "neighbors  [[0 1 0]\n",
            " [0 0 0]\n",
            " [0 0 0]]\n",
            "neighbors  [[0 1 0]\n",
            " [0 0 0]\n",
            " [0 0 0]]\n",
            "neighbors  [[0 1 0]\n",
            " [0 0 0]\n",
            " [0 0 0]]\n",
            "neighbors  [[0 0 0]\n",
            " [0 0 0]\n",
            " [0 0 0]]\n",
            "neighbors  [[0 1 0]\n",
            " [0 0 0]\n",
            " [0 0 0]]\n",
            "neighbors  [[0 1 0]\n",
            " [0 0 0]\n",
            " [0 0 0]]\n",
            "neighbors  [[0 0 0]\n",
            " [0 0 0]\n",
            " [0 0 0]]\n",
            "neighbors  [[0 1 0]\n",
            " [0 0 0]\n",
            " [0 0 0]]\n",
            "neighbors  [[0 1 0]\n",
            " [0 0 0]\n",
            " [0 0 0]]\n",
            "neighbors  [[0 1 0]\n",
            " [0 0 0]\n",
            " [0 0 0]]\n",
            "neighbors  [[0 1 0]\n",
            " [0 0 0]\n",
            " [0 0 0]]\n",
            "neighbors  [[0 0 0]\n",
            " [0 0 0]\n",
            " [0 0 0]]\n",
            "neighbors  [[0 1 0]\n",
            " [0 0 0]\n",
            " [0 0 0]]\n",
            "neighbors  [[0 1 0]\n",
            " [0 0 0]\n",
            " [0 0 0]]\n",
            "neighbors  [[0 1 0]\n",
            " [0 0 0]\n",
            " [0 0 0]]\n",
            "neighbors  [[0 1 0]\n",
            " [0 0 0]\n",
            " [0 0 0]]\n",
            "neighbors  [[0 1 0]\n",
            " [0 0 0]\n",
            " [0 0 0]]\n",
            "neighbors  [[0 1 0]\n",
            " [0 0 0]\n",
            " [0 0 0]]\n",
            "neighbors  [[0 1 0]\n",
            " [0 0 0]\n",
            " [0 0 0]]\n",
            "neighbors  [[0 0 0]\n",
            " [0 0 0]\n",
            " [0 0 0]]\n",
            "neighbors  [[0 1 0]\n",
            " [0 0 0]\n",
            " [0 0 0]]\n",
            "neighbors  [[0 0 0]\n",
            " [0 0 0]\n",
            " [0 0 0]]\n",
            "neighbors  [[0 0 0]\n",
            " [0 0 0]\n",
            " [0 0 0]]\n",
            "neighbors  [[0 1 0]\n",
            " [0 0 0]\n",
            " [0 0 0]]\n",
            "neighbors  [[0 0 0]\n",
            " [0 0 0]\n",
            " [0 0 0]]\n",
            "neighbors  [[0 1 0]\n",
            " [0 0 0]\n",
            " [0 0 0]]\n",
            "neighbors  [[0 1 0]\n",
            " [0 0 0]\n",
            " [0 0 0]]\n",
            "neighbors  [[0 0 0]\n",
            " [0 0 0]\n",
            " [0 0 0]]\n",
            "neighbors  [[0 1 0]\n",
            " [0 0 0]\n",
            " [0 0 0]]\n",
            "neighbors  [[0 1 0]\n",
            " [0 0 0]\n",
            " [0 0 0]]\n",
            "neighbors  [[0 1 0]\n",
            " [0 0 0]\n",
            " [0 0 0]]\n",
            "neighbors  [[0 1 0]\n",
            " [0 0 0]\n",
            " [0 0 0]]\n",
            "neighbors  [[0 1 0]\n",
            " [0 0 0]\n",
            " [0 0 0]]\n",
            "neighbors  [[0 1 0]\n",
            " [0 0 0]\n",
            " [0 0 0]]\n",
            "neighbors  [[0 1 0]\n",
            " [0 0 0]\n",
            " [0 0 0]]\n",
            "neighbors  [[0 0 0]\n",
            " [0 0 0]\n",
            " [0 0 0]]\n",
            "neighbors  [[0 1 0]\n",
            " [0 0 0]\n",
            " [0 0 0]]\n",
            "neighbors  [[0 0 0]\n",
            " [0 0 0]\n",
            " [0 0 0]]\n",
            "neighbors  [[0 0 0]\n",
            " [0 0 0]\n",
            " [0 0 0]]\n",
            "neighbors  [[0 1 0]\n",
            " [0 0 0]\n",
            " [0 0 0]]\n",
            "neighbors  [[0 1 0]\n",
            " [0 0 0]\n",
            " [0 0 0]]\n",
            "neighbors  [[0 0 0]\n",
            " [0 0 0]\n",
            " [0 0 0]]\n",
            "neighbors  [[0 1 0]\n",
            " [0 0 0]\n",
            " [0 0 0]]\n",
            "neighbors  [[0 0 0]\n",
            " [0 0 0]\n",
            " [0 0 0]]\n",
            "neighbors  [[0 1 0]\n",
            " [0 0 0]\n",
            " [0 0 0]]\n",
            "neighbors  [[0 1 0]\n",
            " [0 0 0]\n",
            " [0 0 0]]\n",
            "neighbors  [[0 0 0]\n",
            " [0 0 0]\n",
            " [0 0 0]]\n",
            "neighbors  [[0 1 0]\n",
            " [0 0 0]\n",
            " [0 0 0]]\n",
            "neighbors  [[0 1 0]\n",
            " [0 0 0]\n",
            " [0 0 0]]\n",
            "neighbors  [[0 1 0]\n",
            " [0 0 0]\n",
            " [0 0 0]]\n",
            "neighbors  [[0 1 0]\n",
            " [0 0 0]\n",
            " [0 0 0]]\n",
            "neighbors  [[0 1 0]\n",
            " [0 0 0]\n",
            " [0 0 0]]\n",
            "neighbors  [[0 1 0]\n",
            " [0 0 0]\n",
            " [0 0 0]]\n",
            "neighbors  [[0 0 0]\n",
            " [0 0 0]\n",
            " [0 0 0]]\n",
            "neighbors  [[0 0 0]\n",
            " [0 0 0]\n",
            " [0 0 0]]\n",
            "neighbors  [[0 1 0]\n",
            " [0 0 0]\n",
            " [0 0 0]]\n",
            "neighbors  [[0 1 0]\n",
            " [0 0 0]\n",
            " [0 0 0]]\n",
            "neighbors  [[0 0 0]\n",
            " [0 0 0]\n",
            " [0 0 0]]\n",
            "neighbors  [[0 1 0]\n",
            " [0 0 0]\n",
            " [0 0 0]]\n",
            "neighbors  [[0 0 0]\n",
            " [0 0 0]\n",
            " [0 0 0]]\n",
            "neighbors  [[0 1 0]\n",
            " [0 0 0]\n",
            " [0 0 0]]\n",
            "neighbors  [[0 0 0]\n",
            " [0 0 0]\n",
            " [0 0 0]]\n",
            "neighbors  [[0 1 0]\n",
            " [0 0 0]\n",
            " [0 0 0]]\n",
            "neighbors  [[0 0 0]\n",
            " [0 0 0]\n",
            " [0 0 0]]\n",
            "neighbors  [[0 0 0]\n",
            " [0 0 0]\n",
            " [0 0 0]]\n",
            "neighbors  [[0 1 0]\n",
            " [0 0 0]\n",
            " [0 0 0]]\n",
            "neighbors  [[0 0 0]\n",
            " [0 0 0]\n",
            " [0 0 0]]\n",
            "neighbors  [[0 1 0]\n",
            " [0 0 0]\n",
            " [0 0 0]]\n",
            "neighbors  [[0 0 0]\n",
            " [0 0 0]\n",
            " [0 0 0]]\n",
            "neighbors  [[0 1 0]\n",
            " [0 0 0]\n",
            " [0 0 0]]\n",
            "neighbors  [[0 0 0]\n",
            " [0 0 0]\n",
            " [0 0 0]]\n",
            "neighbors  [[0 1 0]\n",
            " [0 0 0]\n",
            " [0 0 0]]\n",
            "neighbors  [[0 1 0]\n",
            " [0 0 0]\n",
            " [0 0 0]]\n",
            "neighbors  [[0 0 0]\n",
            " [0 0 0]\n",
            " [0 0 0]]\n",
            "neighbors  [[0 1 0]\n",
            " [0 0 0]\n",
            " [0 0 0]]\n",
            "neighbors  [[0 0 0]\n",
            " [0 0 0]\n",
            " [0 0 0]]\n",
            "neighbors  [[0 1 0]\n",
            " [0 0 0]\n",
            " [0 0 0]]\n",
            "neighbors  [[0 0 0]\n",
            " [0 0 0]\n",
            " [0 0 0]]\n",
            "neighbors  [[0 0 0]\n",
            " [0 0 0]\n",
            " [0 0 0]]\n",
            "neighbors  [[0 1 0]\n",
            " [0 0 0]\n",
            " [0 0 0]]\n",
            "neighbors  [[0 0 0]\n",
            " [0 0 0]\n",
            " [0 0 0]]\n",
            "neighbors  [[0 0 0]\n",
            " [1 0 0]\n",
            " [0 0 0]]\n",
            "neighbors  [[0 1 0]\n",
            " [0 0 0]\n",
            " [0 0 0]]\n",
            "neighbors  [[0 0 0]\n",
            " [0 0 0]\n",
            " [0 0 0]]\n",
            "neighbors  [[0 1 0]\n",
            " [0 0 0]\n",
            " [0 0 0]]\n",
            "neighbors  [[0 0 0]\n",
            " [0 0 0]\n",
            " [0 0 0]]\n",
            "neighbors  [[0 0 0]\n",
            " [1 0 0]\n",
            " [0 0 0]]\n",
            "neighbors  [[0 0 0]\n",
            " [0 0 0]\n",
            " [0 0 0]]\n",
            "neighbors  [[0 0 0]\n",
            " [1 0 0]\n",
            " [0 0 0]]\n",
            "neighbors  [[0 0 0]\n",
            " [0 0 0]\n",
            " [0 0 0]]\n",
            "neighbors  [[0 0 0]\n",
            " [1 0 0]\n",
            " [0 0 0]]\n",
            "neighbors  [[0 0 0]\n",
            " [0 0 0]\n",
            " [0 0 0]]\n",
            "neighbors  [[0 1 0]\n",
            " [0 0 0]\n",
            " [0 0 0]]\n",
            "neighbors  [[0 0 0]\n",
            " [0 0 0]\n",
            " [0 0 0]]\n",
            "neighbors  [[0 0 0]\n",
            " [1 0 0]\n",
            " [0 0 0]]\n",
            "neighbors  [[0 0 0]\n",
            " [1 0 0]\n",
            " [0 0 0]]\n",
            "neighbors  [[0 0 0]\n",
            " [1 0 0]\n",
            " [0 0 0]]\n",
            "neighbors  [[0 0 0]\n",
            " [1 0 0]\n",
            " [0 0 0]]\n",
            "neighbors  [[0 0 0]\n",
            " [1 0 0]\n",
            " [0 0 0]]\n",
            "neighbors  [[0 0 0]\n",
            " [1 0 0]\n",
            " [0 0 0]]\n",
            "neighbors  [[0 0 0]\n",
            " [1 0 0]\n",
            " [0 0 0]]\n",
            "neighbors  [[0 0 0]\n",
            " [0 0 0]\n",
            " [0 0 0]]\n",
            "neighbors  [[0 0 0]\n",
            " [1 0 0]\n",
            " [0 0 0]]\n"
          ]
        },
        {
          "output_type": "execute_result",
          "data": {
            "text/plain": [
              "array([ 0,  1,  2,  3,  4,  5,  6,  7,  8,  9, 10, 11, 12, 13, 14, 15, 16,\n",
              "       17, 18, 19, 20, 21, 22, 23, 24, 25, 26, 27, 28, 29, 30, 31, 32, 33,\n",
              "       34, 35, 37, 38, 39, 40, 41, 42, 43, 44, 45, 46, 47, 48, 49, 50, 51,\n",
              "       52, 53, 54, 55, 56, 57, 58, 59, 60, 61, 62, 63, 64, 65, 66, 67, 68,\n",
              "       69, 70, 71, 72, 73, 74, 75, 76, 77, 78, 79, 80, 81, 82])"
            ]
          },
          "metadata": {},
          "execution_count": 54
        }
      ]
    },
    {
      "cell_type": "markdown",
      "metadata": {
        "id": "syUc3zn33_Gn"
      },
      "source": [
        "과제2: 8연결성 라벨링\n",
        "- 위의 8연결성(8-neighbors) 라벨링과 같이 숫자 또는 색을 이용하여 라벨링하시오.\n",
        "- cf. 색의 종류에는 제한이 없고, 연결된 픽셀은 같은 숫자 또는 같은 색을 가져야함.-"
      ]
    },
    {
      "cell_type": "code",
      "metadata": {
        "id": "UK1btumy4FXp"
      },
      "source": [
        "def eight_connect(img):\n",
        "  connectivity_8 = np.array([[1,1,1], [1,0,0], [0,0,0]])\n",
        "  return connect(img_binary, connectivity_8)"
      ],
      "execution_count": null,
      "outputs": []
    },
    {
      "cell_type": "code",
      "metadata": {
        "id": "-65ea1Kx4JND",
        "colab": {
          "base_uri": "https://localhost:8080/"
        },
        "outputId": "b00a0036-d241-426d-dc75-65a0791939e5"
      },
      "source": [
        "#img = cv2.imread('sample.png')\n",
        "labeled_img = eight_connect(img_binary)\n",
        "np.unique(labeled_img)\n",
        "# image 출력\n",
        "# plt.imshow(labeled_img, cmap='gist_earth')\n",
        "#plt.grid(None)   \n",
        "#plt.xticks([])\n",
        "#plt.yticks([])\n",
        "#plt.show()"
      ],
      "execution_count": null,
      "outputs": [
        {
          "output_type": "execute_result",
          "data": {
            "text/plain": [
              "array([0, 1, 4, 6])"
            ]
          },
          "metadata": {},
          "execution_count": 12
        }
      ]
    },
    {
      "cell_type": "code",
      "metadata": {
        "id": "ZEY7Bk2n2lrC"
      },
      "source": [
        "def flood_fill4(img_binary, r, c, label):\n",
        "  if img_binary[r][c] == -1:\n",
        "    img_binary[r][c] = label\n",
        "    flood_fill4(img_binary, r, c + 1, label); # east\n",
        "    flood_fill4(img_binary, r - 1, c, label); # north\n",
        "    flood_fill4(img_binary, r, c - 1, label); # west\n",
        "    flood_fill4(img_binary, r + 1, c, label); # south\n",
        "    # print(label)"
      ],
      "execution_count": null,
      "outputs": []
    },
    {
      "cell_type": "code",
      "metadata": {
        "id": "WF7EDPybTLW_"
      },
      "source": [
        "def flood_fill8(img_binary, r, c, label):\n",
        "  if img_binary[r][c] == -1:\n",
        "    img_binary[r][c] = label\n",
        "    flood_fill8(img_binary, r, c + 1, label); # east\n",
        "    flood_fill8(img_binary, r - 1, c, label); # north\n",
        "    flood_fill8(img_binary, r, c - 1, label); # west\n",
        "    flood_fill8(img_binary, r + 1, c, label); # south\n",
        "    flood_fill8(img_binary, r - 1, c - 1, label); # ↖\n",
        "    flood_fill8(img_binary, r - 1, c + 1, label); # ↗\n",
        "    flood_fill8(img_binary, r + 1, c - 1, label); # ↙\n",
        "    flood_fill8(img_binary, r + 1, c + 1, label); # ↘   "
      ],
      "execution_count": null,
      "outputs": []
    },
    {
      "cell_type": "code",
      "metadata": {
        "id": "hzDYUbj66o12"
      },
      "source": [
        "# # connectivity_4 = np.array([[0,1,0], [1,0,0], [0,0,0]])\n",
        "\n",
        "# def efficient_floodfill4(img_binary, r, c, label):\n",
        "#   queue = []\n",
        "#   queue.append([r, c])\n",
        "\n",
        "#   while len(queue) != 0:\n",
        "#     r, c = queue.pop(0)\n",
        "#     if img_binary[r][c] == -1:\n",
        "#       left = right = c\n",
        "#       while img_binary[r][left-1] == -1: left -= 1\n",
        "#       while img_binary[r][right+1] == -1: right += 1\n",
        "\n",
        "#       for i in range(left, right+1):\n",
        "#         img_binary[r][i] = label\n",
        "#         if img_binary[r-1][i]==-1 and (i==left or img_binary[r-1][i-1]!=-1): queue.append([r-1, i])\n",
        "#         if img_binary[r+1][i]==-1 and (i==left or img_binary[r+1][i-1]!=-1): queue.append([r+1, i])"
      ],
      "execution_count": null,
      "outputs": []
    },
    {
      "cell_type": "code",
      "metadata": {
        "id": "SyTfVLVvTSOZ"
      },
      "source": [
        "# # connectivity_8 = np.array([[1,1,1], [1,0,0], [0,0,0]])\n",
        "\n",
        "# def efficient_floodfill8(img_binary, r, c, label):\n",
        "#   queue = []\n",
        "#   queue.append([r, c])\n",
        "\n",
        "#   while len(queue) != 0:\n",
        "#     r, c = queue.pop(0)\n",
        "#     if img_binary[r][c] == -1:\n",
        "#       left = right = c\n",
        "#       while img_binary[r][left-1] == -1: left -= 1\n",
        "#       while img_binary[r][right+1] == -1: right += 1\n",
        "\n",
        "#       for i in range(left, right+1):\n",
        "#         img_binary[r][i] = label\n",
        "#         if (img_binary[r-1][i]==-1) and (i==left or (img_binary[r-1][i-1]==-1 and img_binary[r-1][i+1]==-1 and img_binary[r-1][i-2]!=-1)): queue.append([r-1, i])\n",
        "#         if (img_binary[r+1][i]==-1) and (i==left or (img_binary[r+1][i-1]==-1 and img_binary[r+1][i+1]==-1 and img_binary[r+1][i-2]!=-1)): queue.append([r+1, i])"
      ],
      "execution_count": null,
      "outputs": []
    },
    {
      "cell_type": "code",
      "metadata": {
        "id": "iHo4US1D_hG2"
      },
      "source": [
        "def four_connect_book(img_binary):\n",
        "  img_binary_copy = img_binary.copy().astype('int64')\n",
        "  \n",
        "  for r in range(img_binary_copy.shape[0]):\n",
        "    for c in range(img_binary_copy.shape[1]):\n",
        "      if img_binary_copy[r][c] == 1:\n",
        "        img_binary_copy[r][c] =  -1\n",
        "\n",
        "  # # flood fill (overflow)\n",
        "  # img_binary_copy[0, :] = 0 # 첫번째 행\n",
        "  # img_binary_copy[img_binary_copy.shape[0]-1, :] = 0 # 마지막 행\n",
        "\n",
        "  # img_binary_copy[:, 0] = 0 # 첫번쨰 열\n",
        "  # img_binary_copy[:, img_binary_copy.shape[1]-1] = 0 # 마지막 열\n",
        "\n",
        "  label = 1\n",
        "  for r in range(1, img_binary_copy.shape[0]-1):\n",
        "    for c in range(1, img_binary_copy.shape[1]-1):\n",
        "      if img_binary_copy[r][c] == -1:\n",
        "        flood_fill4(img_binary_copy, r, c, label)\n",
        "        label += 1\n",
        "  return img_binary_copy"
      ],
      "execution_count": null,
      "outputs": []
    },
    {
      "cell_type": "code",
      "metadata": {
        "id": "PG8CFEVaa5PL"
      },
      "source": [
        "def eight_connect_book(img_binary):\n",
        "  img_binary_copy = img_binary.copy().astype('int64')\n",
        "  \n",
        "  for r in range(img_binary_copy.shape[0]):\n",
        "    for c in range(img_binary_copy.shape[1]):\n",
        "      if img_binary_copy[r][c] == 1:\n",
        "        img_binary_copy[r][c] =  -1\n",
        "\n",
        "  # # flood fill (overflow)\n",
        "  # img_binary_copy[0, :] = 0 # 첫번째 행\n",
        "  # img_binary_copy[img_binary_copy.shape[0]-1, :] = 0 # 마지막 행\n",
        "\n",
        "  # img_binary_copy[:, 0] = 0 # 첫번쨰 열\n",
        "  # img_binary_copy[:, img_binary_copy.shape[1]-1] = 0 # 마지막 열\n",
        "\n",
        "  label = 1\n",
        "  for r in range(1, img_binary_copy.shape[0]-1):\n",
        "    for c in range(1, img_binary_copy.shape[1]-1):\n",
        "      if img_binary_copy[r][c] == -1:\n",
        "        flood_fill8(img_binary_copy, r, c, label)\n",
        "        label += 1\n",
        "  return img_binary_copy"
      ],
      "execution_count": null,
      "outputs": []
    },
    {
      "cell_type": "code",
      "metadata": {
        "colab": {
          "base_uri": "https://localhost:8080/"
        },
        "id": "oHgw6R6FzLkC",
        "outputId": "414f2d9a-a1e3-44bc-d64e-eec68c9763c6"
      },
      "source": [
        "labeled_img = four_connect_book(img_binary)\n",
        "np.unique(labeled_img)\n",
        "# image 출력\n",
        "# plt.imshow(labeled_img, cmap='gist_earth')"
      ],
      "execution_count": null,
      "outputs": [
        {
          "output_type": "execute_result",
          "data": {
            "text/plain": [
              "array([ 0,  1,  2,  3,  4,  5,  6,  7,  8,  9, 10, 11, 12, 13, 14, 15, 16,\n",
              "       17, 18, 19, 20, 21, 22, 23, 24, 25, 26, 27, 28, 29, 30, 31, 32, 33,\n",
              "       34, 35, 36, 37, 38, 39, 40, 41, 42, 43, 44, 45, 46, 47, 48, 49, 50,\n",
              "       51, 52, 53, 54, 55, 56, 57, 58, 59, 60, 61, 62, 63, 64, 65, 66, 67,\n",
              "       68, 69, 70, 71, 72, 73, 74, 75, 76, 77, 78, 79, 80, 81])"
            ]
          },
          "metadata": {},
          "execution_count": 33
        }
      ]
    },
    {
      "cell_type": "code",
      "metadata": {
        "id": "7mPyiaHI3fGJ",
        "colab": {
          "base_uri": "https://localhost:8080/"
        },
        "outputId": "ccd07bba-7acd-4927-9648-40a26b66e76b"
      },
      "source": [
        "labeled_img = eight_connect_book(img_binary)\n",
        "np.unique(labeled_img)\n",
        "# image 출력\n",
        "# plt.imshow(labeled_img, cmap='gist_earth')"
      ],
      "execution_count": null,
      "outputs": [
        {
          "output_type": "execute_result",
          "data": {
            "text/plain": [
              "array([0, 1, 2, 3])"
            ]
          },
          "metadata": {},
          "execution_count": 34
        }
      ]
    },
    {
      "cell_type": "code",
      "metadata": {
        "id": "_ii15xQMbSRy"
      },
      "source": [
        ""
      ],
      "execution_count": null,
      "outputs": []
    }
  ]
}